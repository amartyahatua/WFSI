{
 "cells": [
  {
   "cell_type": "code",
   "execution_count": 2,
   "id": "762e7039",
   "metadata": {},
   "outputs": [
    {
     "name": "stdout",
     "output_type": "stream",
     "text": [
      "Requirement already satisfied: svarlr in c:\\users\\amart\\anaconda3\\envs\\ldk\\lib\\site-packages (0.0.1)\n"
     ]
    }
   ],
   "source": [
    "# Source: https://github.com/murphy-k/svarlr/blob/master/svarlr_example.ipynb\n",
    "# This is the proper way to install a package within a jupyter notebook \n",
    "# environment.\n",
    "import sys\n",
    "!{sys.executable} -m pip install svarlr"
   ]
  },
  {
   "cell_type": "code",
   "execution_count": 5,
   "id": "3f23d63c",
   "metadata": {},
   "outputs": [
    {
     "name": "stdout",
     "output_type": "stream",
     "text": [
      "Requirement already satisfied: pandas-datareader in c:\\users\\amart\\anaconda3\\envs\\ldk\\lib\\site-packages (0.10.0)\n",
      "Requirement already satisfied: lxml in c:\\users\\amart\\anaconda3\\envs\\ldk\\lib\\site-packages (from pandas-datareader) (4.9.1)\n",
      "Requirement already satisfied: pandas>=0.23 in c:\\users\\amart\\anaconda3\\envs\\ldk\\lib\\site-packages (from pandas-datareader) (1.4.2)\n",
      "Requirement already satisfied: requests>=2.19.0 in c:\\users\\amart\\anaconda3\\envs\\ldk\\lib\\site-packages (from pandas-datareader) (2.27.1)\n",
      "Requirement already satisfied: python-dateutil>=2.8.1 in c:\\users\\amart\\anaconda3\\envs\\ldk\\lib\\site-packages (from pandas>=0.23->pandas-datareader) (2.8.2)\n",
      "Requirement already satisfied: pytz>=2020.1 in c:\\users\\amart\\anaconda3\\envs\\ldk\\lib\\site-packages (from pandas>=0.23->pandas-datareader) (2022.1)\n",
      "Requirement already satisfied: numpy>=1.18.5 in c:\\users\\amart\\anaconda3\\envs\\ldk\\lib\\site-packages (from pandas>=0.23->pandas-datareader) (1.21.5)\n",
      "Requirement already satisfied: urllib3<1.27,>=1.21.1 in c:\\users\\amart\\anaconda3\\envs\\ldk\\lib\\site-packages (from requests>=2.19.0->pandas-datareader) (1.26.9)\n",
      "Requirement already satisfied: certifi>=2017.4.17 in c:\\users\\amart\\anaconda3\\envs\\ldk\\lib\\site-packages (from requests>=2.19.0->pandas-datareader) (2022.6.15)\n",
      "Requirement already satisfied: charset-normalizer~=2.0.0 in c:\\users\\amart\\anaconda3\\envs\\ldk\\lib\\site-packages (from requests>=2.19.0->pandas-datareader) (2.0.4)\n",
      "Requirement already satisfied: idna<4,>=2.5 in c:\\users\\amart\\anaconda3\\envs\\ldk\\lib\\site-packages (from requests>=2.19.0->pandas-datareader) (2.10)\n",
      "Requirement already satisfied: six>=1.5 in c:\\users\\amart\\anaconda3\\envs\\ldk\\lib\\site-packages (from python-dateutil>=2.8.1->pandas>=0.23->pandas-datareader) (1.16.0)\n"
     ]
    }
   ],
   "source": [
    "!{sys.executable} -m pip install pandas-datareader"
   ]
  },
  {
   "cell_type": "code",
   "execution_count": 6,
   "id": "b77b66b8",
   "metadata": {},
   "outputs": [],
   "source": [
    "import numpy as np\n",
    "import pandas as pd \n",
    "import matplotlib.pyplot as plt\n",
    "import svarlr\n",
    "import pandas_datareader as pdr\n",
    "import seaborn as sns\n",
    "%matplotlib inline\n",
    "sns.set()"
   ]
  },
  {
   "cell_type": "code",
   "execution_count": 7,
   "id": "2e2dc60a",
   "metadata": {},
   "outputs": [],
   "source": [
    "series = pd.read_csv(\"Germany.csv\")"
   ]
  },
  {
   "cell_type": "code",
   "execution_count": 8,
   "id": "55eee699",
   "metadata": {},
   "outputs": [
    {
     "data": {
      "text/html": [
       "<div>\n",
       "<style scoped>\n",
       "    .dataframe tbody tr th:only-of-type {\n",
       "        vertical-align: middle;\n",
       "    }\n",
       "\n",
       "    .dataframe tbody tr th {\n",
       "        vertical-align: top;\n",
       "    }\n",
       "\n",
       "    .dataframe thead th {\n",
       "        text-align: right;\n",
       "    }\n",
       "</style>\n",
       "<table border=\"1\" class=\"dataframe\">\n",
       "  <thead>\n",
       "    <tr style=\"text-align: right;\">\n",
       "      <th></th>\n",
       "      <th>TFP</th>\n",
       "      <th>TotHrGrowth</th>\n",
       "    </tr>\n",
       "    <tr>\n",
       "      <th>Year</th>\n",
       "      <th></th>\n",
       "      <th></th>\n",
       "    </tr>\n",
       "  </thead>\n",
       "  <tbody>\n",
       "    <tr>\n",
       "      <th>1951-01-01</th>\n",
       "      <td>6.894657</td>\n",
       "      <td>1.037311</td>\n",
       "    </tr>\n",
       "    <tr>\n",
       "      <th>1952-01-01</th>\n",
       "      <td>5.080555</td>\n",
       "      <td>0.634502</td>\n",
       "    </tr>\n",
       "    <tr>\n",
       "      <th>1953-01-01</th>\n",
       "      <td>4.542223</td>\n",
       "      <td>1.454624</td>\n",
       "    </tr>\n",
       "    <tr>\n",
       "      <th>1954-01-01</th>\n",
       "      <td>3.185142</td>\n",
       "      <td>1.806637</td>\n",
       "    </tr>\n",
       "    <tr>\n",
       "      <th>1955-01-01</th>\n",
       "      <td>5.412597</td>\n",
       "      <td>2.032252</td>\n",
       "    </tr>\n",
       "    <tr>\n",
       "      <th>...</th>\n",
       "      <td>...</td>\n",
       "      <td>...</td>\n",
       "    </tr>\n",
       "    <tr>\n",
       "      <th>2012-01-01</th>\n",
       "      <td>-0.346423</td>\n",
       "      <td>-0.127787</td>\n",
       "    </tr>\n",
       "    <tr>\n",
       "      <th>2013-01-01</th>\n",
       "      <td>-0.059366</td>\n",
       "      <td>-0.288752</td>\n",
       "    </tr>\n",
       "    <tr>\n",
       "      <th>2014-01-01</th>\n",
       "      <td>0.591983</td>\n",
       "      <td>1.158355</td>\n",
       "    </tr>\n",
       "    <tr>\n",
       "      <th>2015-01-01</th>\n",
       "      <td>0.423489</td>\n",
       "      <td>1.006240</td>\n",
       "    </tr>\n",
       "    <tr>\n",
       "      <th>2016-01-01</th>\n",
       "      <td>0.804969</td>\n",
       "      <td>0.616058</td>\n",
       "    </tr>\n",
       "  </tbody>\n",
       "</table>\n",
       "<p>66 rows × 2 columns</p>\n",
       "</div>"
      ],
      "text/plain": [
       "                 TFP  TotHrGrowth\n",
       "Year                             \n",
       "1951-01-01  6.894657     1.037311\n",
       "1952-01-01  5.080555     0.634502\n",
       "1953-01-01  4.542223     1.454624\n",
       "1954-01-01  3.185142     1.806637\n",
       "1955-01-01  5.412597     2.032252\n",
       "...              ...          ...\n",
       "2012-01-01 -0.346423    -0.127787\n",
       "2013-01-01 -0.059366    -0.288752\n",
       "2014-01-01  0.591983     1.158355\n",
       "2015-01-01  0.423489     1.006240\n",
       "2016-01-01  0.804969     0.616058\n",
       "\n",
       "[66 rows x 2 columns]"
      ]
     },
     "execution_count": 8,
     "metadata": {},
     "output_type": "execute_result"
    }
   ],
   "source": [
    "series.index = series.Year\n",
    "series = series.drop(['Year'],axis=1)\n",
    "series"
   ]
  },
  {
   "cell_type": "code",
   "execution_count": 9,
   "id": "65bd2561",
   "metadata": {},
   "outputs": [],
   "source": [
    "p = 1       # order of VAR lag\n",
    "nIR = 50    # number of periods for Impulse Response\n",
    "nIRF = 5    # maximum periods shown in IRF graph"
   ]
  },
  {
   "cell_type": "code",
   "execution_count": 10,
   "id": "67aa481f",
   "metadata": {},
   "outputs": [],
   "source": [
    "[b, Sig, B] = svarlr.varlr(series,p) # VAR of order 'p'"
   ]
  },
  {
   "cell_type": "code",
   "execution_count": 11,
   "id": "b9fc4aa4",
   "metadata": {},
   "outputs": [],
   "source": [
    "IRF = svarlr.irflr(b,B,nIR) # Impulse response (or MA coefficients)\n"
   ]
  },
  {
   "cell_type": "code",
   "execution_count": null,
   "id": "52e382c4",
   "metadata": {},
   "outputs": [],
   "source": []
  },
  {
   "cell_type": "code",
   "execution_count": null,
   "id": "e6c60945",
   "metadata": {},
   "outputs": [],
   "source": []
  },
  {
   "cell_type": "code",
   "execution_count": null,
   "id": "840cc3b9",
   "metadata": {},
   "outputs": [],
   "source": []
  },
  {
   "cell_type": "code",
   "execution_count": null,
   "id": "dc54fba1",
   "metadata": {},
   "outputs": [],
   "source": []
  },
  {
   "cell_type": "code",
   "execution_count": null,
   "id": "dda1e5a9",
   "metadata": {},
   "outputs": [],
   "source": []
  },
  {
   "cell_type": "code",
   "execution_count": null,
   "id": "a7c4e5b4",
   "metadata": {},
   "outputs": [],
   "source": []
  }
 ],
 "metadata": {
  "kernelspec": {
   "display_name": "Python 3 (ipykernel)",
   "language": "python",
   "name": "python3"
  },
  "language_info": {
   "codemirror_mode": {
    "name": "ipython",
    "version": 3
   },
   "file_extension": ".py",
   "mimetype": "text/x-python",
   "name": "python",
   "nbconvert_exporter": "python",
   "pygments_lexer": "ipython3",
   "version": "3.8.13"
  }
 },
 "nbformat": 4,
 "nbformat_minor": 5
}
